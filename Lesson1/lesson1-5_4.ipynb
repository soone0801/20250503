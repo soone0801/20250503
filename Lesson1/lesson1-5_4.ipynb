{
  "nbformat": 4,
  "nbformat_minor": 0,
  "metadata": {
    "colab": {
      "provenance": [],
      "authorship_tag": "ABX9TyO+Ot9Bs2g+6GkNySd8GMo0",
      "include_colab_link": true
    },
    "kernelspec": {
      "name": "python3",
      "display_name": "Python 3"
    },
    "language_info": {
      "name": "python"
    }
  },
  "cells": [
    {
      "cell_type": "markdown",
      "metadata": {
        "id": "view-in-github",
        "colab_type": "text"
      },
      "source": [
        "<a href=\"https://colab.research.google.com/github/soone0801/20250503/blob/main/Lesson1/lesson1-5_4.ipynb\" target=\"_parent\"><img src=\"https://colab.research.google.com/assets/colab-badge.svg\" alt=\"Open In Colab\"/></a>"
      ]
    },
    {
      "cell_type": "markdown",
      "source": [
        "每個儲存格只會顯示最後一行 要全顯示要加print()\n",
        "\n",
        "會導出東西的式子叫做運算式\n",
        "\n",
        "GITHUBMARKDOWN中文版"
      ],
      "metadata": {
        "id": "xtUuSqWWRyia"
      }
    },
    {
      "cell_type": "markdown",
      "source": [
        "# 標題1 **是次方\n",
        "## 標題2 %是算餘數\n",
        "### 標題3 /是含小數點除法\n",
        "#### 標題4 //是僅整數除法\n",
        "##### 標題5\n",
        "###### 標題6\n",
        "####### 標題7\n"
      ],
      "metadata": {
        "id": "3kRTLg3eLisJ"
      }
    },
    {
      "cell_type": "code",
      "execution_count": null,
      "metadata": {
        "colab": {
          "base_uri": "https://localhost:8080/"
        },
        "id": "liDsGNSsB_Sk",
        "outputId": "5bf9c50d-d94c-4bb5-ec93-557410edb2cd"
      },
      "outputs": [
        {
          "output_type": "stream",
          "name": "stdout",
          "text": [
            "Hello! python!\n"
          ]
        }
      ],
      "source": [
        "print(\"Hello! python!\")"
      ]
    },
    {
      "cell_type": "code",
      "source": [
        "print(99**9+45**4)\n",
        "print(36%8)\n",
        "print(80/7)\n",
        "print(80//6)\n",
        "print(52/11)\n",
        "print(4**4)"
      ],
      "metadata": {
        "colab": {
          "base_uri": "https://localhost:8080/"
        },
        "id": "mAXoEzfLQi7p",
        "outputId": "c4936c63-7483-4a4e-e344-71d1f62c0eac"
      },
      "execution_count": null,
      "outputs": [
        {
          "output_type": "stream",
          "name": "stdout",
          "text": [
            "913517247487741524\n",
            "4\n",
            "11.428571428571429\n",
            "13\n",
            "4.7272727272727275\n",
            "256\n"
          ]
        }
      ]
    },
    {
      "cell_type": "code",
      "source": [
        "(3+2)**3/5+2*5+3**3*5-2**4"
      ],
      "metadata": {
        "colab": {
          "base_uri": "https://localhost:8080/"
        },
        "id": "H26W1KEqs57m",
        "outputId": "a00d7aac-ae75-4b99-eacf-65ba0eba88bc"
      },
      "execution_count": null,
      "outputs": [
        {
          "output_type": "execute_result",
          "data": {
            "text/plain": [
              "154.0"
            ]
          },
          "metadata": {},
          "execution_count": 16
        }
      ]
    },
    {
      "cell_type": "markdown",
      "source": [
        "優先順序\n",
        "()\n",
        "\n",
        "**\n",
        "\n",
        "*/%//\n",
        "\n",
        "+-\n",
        "\n",
        "排序最尾是=，=是建立一個變數 不會傳出值 是一個敘述式"
      ],
      "metadata": {
        "id": "85d_amS9t2PV"
      }
    },
    {
      "cell_type": "code",
      "source": [
        "k=(3+2)**3/5+2*5+3**3*5-2**4\n",
        "k=k/7\n",
        "k=k+8\n",
        "k=k/3-1\n",
        "k\n"
      ],
      "metadata": {
        "colab": {
          "base_uri": "https://localhost:8080/"
        },
        "id": "iFzL_gDBxBWA",
        "outputId": "b45ca030-bbc0-45ce-e5e2-4eee87fd5c65"
      },
      "execution_count": 19,
      "outputs": [
        {
          "output_type": "execute_result",
          "data": {
            "text/plain": [
              "9.0"
            ]
          },
          "metadata": {},
          "execution_count": 19
        }
      ]
    },
    {
      "cell_type": "markdown",
      "source": [
        "# (*=)複合指定運算子"
      ],
      "metadata": {
        "id": "-1gGM2q619XK"
      }
    },
    {
      "cell_type": "code",
      "source": [
        "k=(3+2)**3/5+2*5+3**3*5-2**4\n",
        "k/=7\n",
        "k+= 8\n",
        "print(k)\n",
        "k/=3\n",
        "k-=1\n",
        "k\n",
        "k\n"
      ],
      "metadata": {
        "colab": {
          "base_uri": "https://localhost:8080/"
        },
        "id": "y6929DmG160x",
        "outputId": "4a5509c7-c996-4dcc-d4a5-3b86a2e67464"
      },
      "execution_count": 25,
      "outputs": [
        {
          "output_type": "stream",
          "name": "stdout",
          "text": [
            "30.0\n"
          ]
        },
        {
          "output_type": "execute_result",
          "data": {
            "text/plain": [
              "9.0"
            ]
          },
          "metadata": {},
          "execution_count": 25
        }
      ]
    },
    {
      "cell_type": "markdown",
      "source": [
        "##input()使用"
      ],
      "metadata": {
        "id": "pGo0akjJ7n1B"
      }
    },
    {
      "cell_type": "code",
      "source": [
        "name = input(\"輸入你的名字:\")\n",
        "print(\"你的名字:煞氣a\" + name)\n",
        "print(\"\\033[1;32;37;0m你的名字:煞氣a\" + name + \"\\033[0m\")"
      ],
      "metadata": {
        "colab": {
          "base_uri": "https://localhost:8080/"
        },
        "id": "Ci214N9z7e6i",
        "outputId": "c66de451-f9b7-45e8-c708-e6a7884281e4"
      },
      "execution_count": 40,
      "outputs": [
        {
          "output_type": "stream",
          "name": "stdout",
          "text": [
            "輸入你的名字:小牙膏\n",
            "你的名字:煞氣a小牙膏\n",
            "\u001b[1;32;37;0m你的名字:煞氣a小牙膏\u001b[0m\n"
          ]
        }
      ]
    },
    {
      "cell_type": "markdown",
      "source": [
        "python是動態型別"
      ],
      "metadata": {
        "id": "U1Pn43joC0qc"
      }
    },
    {
      "cell_type": "code",
      "source": [
        "naem = input(\"請輸入姓名:\")\n",
        "print(type(name))\n",
        "name = 9\n",
        "print(type(name))\n",
        "name = 9.0\n",
        "print(type(name))"
      ],
      "metadata": {
        "id": "WFgWlKxADGAb",
        "outputId": "8be8a559-e3fe-48b8-ff5b-782c07ed7a73",
        "colab": {
          "base_uri": "https://localhost:8080/"
        }
      },
      "execution_count": 47,
      "outputs": [
        {
          "output_type": "stream",
          "name": "stdout",
          "text": [
            "請輸入姓名:洨牙膏\n",
            "<class 'float'>\n",
            "<class 'int'>\n",
            "<class 'float'>\n"
          ]
        }
      ]
    }
  ]
}