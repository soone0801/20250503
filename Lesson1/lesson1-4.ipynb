{
  "nbformat": 4,
  "nbformat_minor": 0,
  "metadata": {
    "colab": {
      "provenance": [],
      "authorship_tag": "ABX9TyMSfbANePoncNj7Ma7IJBE3",
      "include_colab_link": true
    },
    "kernelspec": {
      "name": "python3",
      "display_name": "Python 3"
    },
    "language_info": {
      "name": "python"
    }
  },
  "cells": [
    {
      "cell_type": "markdown",
      "metadata": {
        "id": "view-in-github",
        "colab_type": "text"
      },
      "source": [
        "<a href=\"https://colab.research.google.com/github/soone0801/20250503/blob/main/Lesson1/lesson1-4.ipynb\" target=\"_parent\"><img src=\"https://colab.research.google.com/assets/colab-badge.svg\" alt=\"Open In Colab\"/></a>"
      ]
    },
    {
      "cell_type": "markdown",
      "source": [
        "每個儲存格只會顯示最後一行 要全顯示要加print()\n",
        "\n",
        "會導出東西的式子叫做運算式\n",
        "\n",
        "GITHUBMARKDOWN中文版"
      ],
      "metadata": {
        "id": "xtUuSqWWRyia"
      }
    },
    {
      "cell_type": "markdown",
      "source": [
        "# 標題1 **是次方\n",
        "## 標題2 %是算餘數\n",
        "### 標題3 /是含小數點除法\n",
        "#### 標題4 //是僅整數除法\n",
        "##### 標題5\n",
        "###### 標題6\n",
        "####### 標題7\n"
      ],
      "metadata": {
        "id": "3kRTLg3eLisJ"
      }
    },
    {
      "cell_type": "code",
      "execution_count": null,
      "metadata": {
        "colab": {
          "base_uri": "https://localhost:8080/"
        },
        "id": "liDsGNSsB_Sk",
        "outputId": "5bf9c50d-d94c-4bb5-ec93-557410edb2cd"
      },
      "outputs": [
        {
          "output_type": "stream",
          "name": "stdout",
          "text": [
            "Hello! python!\n"
          ]
        }
      ],
      "source": [
        "print(\"Hello! python!\")"
      ]
    },
    {
      "cell_type": "code",
      "source": [
        "print(99**9+45**4)\n",
        "print(36%8)\n",
        "print(80/7)\n",
        "print(80//6)\n",
        "print(52/11)\n",
        "print(4**4)"
      ],
      "metadata": {
        "colab": {
          "base_uri": "https://localhost:8080/"
        },
        "id": "mAXoEzfLQi7p",
        "outputId": "c4936c63-7483-4a4e-e344-71d1f62c0eac"
      },
      "execution_count": null,
      "outputs": [
        {
          "output_type": "stream",
          "name": "stdout",
          "text": [
            "913517247487741524\n",
            "4\n",
            "11.428571428571429\n",
            "13\n",
            "4.7272727272727275\n",
            "256\n"
          ]
        }
      ]
    },
    {
      "cell_type": "code",
      "source": [
        "(3+2)**3/5+2*5+3**3*5-2**4"
      ],
      "metadata": {
        "colab": {
          "base_uri": "https://localhost:8080/"
        },
        "id": "H26W1KEqs57m",
        "outputId": "a00d7aac-ae75-4b99-eacf-65ba0eba88bc"
      },
      "execution_count": null,
      "outputs": [
        {
          "output_type": "execute_result",
          "data": {
            "text/plain": [
              "154.0"
            ]
          },
          "metadata": {},
          "execution_count": 16
        }
      ]
    },
    {
      "cell_type": "markdown",
      "source": [
        "優先順序\n",
        "()\n",
        "\n",
        "**\n",
        "\n",
        "*/%//\n",
        "\n",
        "+-\n",
        "\n",
        "="
      ],
      "metadata": {
        "id": "85d_amS9t2PV"
      }
    }
  ]
}