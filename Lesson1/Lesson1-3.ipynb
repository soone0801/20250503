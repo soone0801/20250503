{
  "nbformat": 4,
  "nbformat_minor": 0,
  "metadata": {
    "colab": {
      "provenance": [],
      "authorship_tag": "ABX9TyM/RQqyGiguEkLcHazo41r8",
      "include_colab_link": true
    },
    "kernelspec": {
      "name": "python3",
      "display_name": "Python 3"
    },
    "language_info": {
      "name": "python"
    }
  },
  "cells": [
    {
      "cell_type": "markdown",
      "metadata": {
        "id": "view-in-github",
        "colab_type": "text"
      },
      "source": [
        "<a href=\"https://colab.research.google.com/github/soone0801/20250503/blob/main/Lesson1/Lesson1-3.ipynb\" target=\"_parent\"><img src=\"https://colab.research.google.com/assets/colab-badge.svg\" alt=\"Open In Colab\"/></a>"
      ]
    },
    {
      "cell_type": "markdown",
      "source": [
        "每個儲存格只會顯示最後一行 要全顯示要加print()"
      ],
      "metadata": {
        "id": "xtUuSqWWRyia"
      }
    },
    {
      "cell_type": "markdown",
      "source": [
        "# 標題1 **是次方\n",
        "## 標題2 %是算餘數\n",
        "### 標題3 /是含小數點除法\n",
        "#### 標題4 //是僅整數除法\n",
        "##### 標題5\n",
        "###### 標題6\n"
      ],
      "metadata": {
        "id": "3kRTLg3eLisJ"
      }
    },
    {
      "cell_type": "code",
      "execution_count": null,
      "metadata": {
        "colab": {
          "base_uri": "https://localhost:8080/"
        },
        "id": "liDsGNSsB_Sk",
        "outputId": "5bf9c50d-d94c-4bb5-ec93-557410edb2cd"
      },
      "outputs": [
        {
          "output_type": "stream",
          "name": "stdout",
          "text": [
            "Hello! python!\n"
          ]
        }
      ],
      "source": [
        "print(\"Hello! python!\")"
      ]
    },
    {
      "cell_type": "code",
      "source": [
        "print(99**99+45**45)\n",
        "print(36%8)\n",
        "print(80/7)\n",
        "print(80//6)\n",
        "print(52/11)\n",
        "print(4**4)"
      ],
      "metadata": {
        "colab": {
          "base_uri": "https://localhost:8080/"
        },
        "id": "mAXoEzfLQi7p",
        "outputId": "688b172c-d68b-48e5-91ca-e5872e9cc74f"
      },
      "execution_count": 14,
      "outputs": [
        {
          "output_type": "stream",
          "name": "stdout",
          "text": [
            "369729637649726772657187905628805440595668764281741102430259972423552570455277523421410650010128232727940978889548326540119678060413945700597116219376039427107815591249151955549321500599287374328024\n",
            "4\n",
            "11.428571428571429\n",
            "13\n",
            "4.7272727272727275\n",
            "256\n"
          ]
        }
      ]
    }
  ]
}