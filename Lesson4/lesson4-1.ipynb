{
  "cells": [
    {
      "cell_type": "markdown",
      "metadata": {
        "colab_type": "text",
        "id": "view-in-github"
      },
      "source": [
        "<a href=\"https://colab.research.google.com/github/soone0801/20250503/blob/main/Lesson4/lesson4-1.ipynb\" target=\"_parent\"><img src=\"https://colab.research.google.com/assets/colab-badge.svg\" alt=\"Open In Colab\"/></a>"
      ]
    },
    {
      "cell_type": "markdown",
      "metadata": {
        "id": "0AUDcMiW-PzI"
      },
      "source": [
        "def咖啡生產器(咖啡豆盤子(放咖啡豆-參數),水杯(放水-參數))⮕咖啡"
      ]
    },
    {
      "cell_type": "code",
      "execution_count": null,
      "metadata": {
        "colab": {
          "base_uri": "https://localhost:8080/"
        },
        "id": "9lfRE2ib-aco",
        "outputId": "5db75151-9a39-4e03-f0eb-66253b562d7c"
      },
      "outputs": [
        {
          "name": "stdout",
          "output_type": "stream",
          "text": [
            "請輸入身高(CM):178\n",
            "請輸入體重(KG):65\n",
            "BMI = 20.515086478979924\n",
            "可以 正常\n"
          ]
        }
      ],
      "source": [
        "def caculate_bmi(height:int,weight:int)->float:\n",
        "    return weight / (height / 100) ** 2\n",
        "\n",
        "def get_state(bmi:float)->str:\n",
        "    if bmi < 18.5:\n",
        "        return \"體重過輕\"\n",
        "    elif bmi < 24:\n",
        "        return \"正常範圍\"\n",
        "    elif bmi < 27:\n",
        "        return \"過重\"\n",
        "    elif bmi < 30:\n",
        "        return \"輕度肥胖\"\n",
        "    elif bmi < 35:\n",
        "        return \"中度肥胖\"\n",
        "    else:\n",
        "        return \"重度肥胖\"\n",
        "\n",
        "height:int = int(input(\"請輸入身高(cm):\"))\n",
        "weight:int = int(input(\"請輸入體重(kg):\"))\n",
        "\n",
        "bmi = caculate_bmi(height, weight)\n",
        "\n",
        "print(bmi)\n",
        "print(get_state(bmi))"
      ]
    }
  ],
  "metadata": {
    "colab": {
      "authorship_tag": "ABX9TyPeIaZjiQxzVhHt7qp7nV4i",
      "include_colab_link": true,
      "provenance": []
    },
    "kernelspec": {
      "display_name": "Python 3",
      "name": "python3"
    },
    "language_info": {
      "name": "python"
    }
  },
  "nbformat": 4,
  "nbformat_minor": 0
}
