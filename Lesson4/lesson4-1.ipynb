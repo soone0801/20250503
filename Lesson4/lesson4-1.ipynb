{
  "nbformat": 4,
  "nbformat_minor": 0,
  "metadata": {
    "colab": {
      "provenance": [],
      "authorship_tag": "ABX9TyPeIaZjiQxzVhHt7qp7nV4i",
      "include_colab_link": true
    },
    "kernelspec": {
      "name": "python3",
      "display_name": "Python 3"
    },
    "language_info": {
      "name": "python"
    }
  },
  "cells": [
    {
      "cell_type": "markdown",
      "metadata": {
        "id": "view-in-github",
        "colab_type": "text"
      },
      "source": [
        "<a href=\"https://colab.research.google.com/github/soone0801/20250503/blob/main/Lesson4/lesson4-1.ipynb\" target=\"_parent\"><img src=\"https://colab.research.google.com/assets/colab-badge.svg\" alt=\"Open In Colab\"/></a>"
      ]
    },
    {
      "cell_type": "markdown",
      "source": [
        "def咖啡生產器(咖啡豆盤子(放咖啡豆-參數),水杯(放水-參數))⮕咖啡"
      ],
      "metadata": {
        "id": "0AUDcMiW-PzI"
      }
    },
    {
      "cell_type": "code",
      "source": [
        "def caculate_bmi(height:int,weight:int)->float:\n",
        "    return weight / ((height/100) ** 2)\n",
        "def get_state(bmi:float)->str:\n",
        "    if bmi < 18.5:\n",
        "        return \"太瘦啦\"\n",
        "    elif bmi < 24:\n",
        "        return \"可以 正常\"\n",
        "    elif bmi < 27:\n",
        "        return \"小肥兒\"\n",
        "    else:\n",
        "        return \"媽的 肥仔\"\n",
        "\n",
        "height:int = int(input(\"請輸入身高(CM):\"))\n",
        "weight:int = int(input(\"請輸入體重(KG):\"))\n",
        "\n",
        "bmi = caculate_bmi(height,weight)\n",
        "print(f\"BMI = {bmi}\")\n",
        "print(get_state(bmi))"
      ],
      "metadata": {
        "id": "9lfRE2ib-aco",
        "outputId": "5db75151-9a39-4e03-f0eb-66253b562d7c",
        "colab": {
          "base_uri": "https://localhost:8080/"
        }
      },
      "execution_count": 7,
      "outputs": [
        {
          "output_type": "stream",
          "name": "stdout",
          "text": [
            "請輸入身高(CM):178\n",
            "請輸入體重(KG):65\n",
            "BMI = 20.515086478979924\n",
            "可以 正常\n"
          ]
        }
      ]
    }
  ]
}