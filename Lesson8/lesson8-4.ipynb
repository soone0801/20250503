{
 "cells": [
  {
   "cell_type": "markdown",
   "id": "5975e226",
   "metadata": {},
   "source": [
    "https://www.perplexity.ai/search/388f6b0d-09f1-4ae9-9c3b-5e5163037109"
   ]
  },
  {
   "cell_type": "code",
   "execution_count": null,
   "id": "7629f98f",
   "metadata": {},
   "outputs": [],
   "source": [
    "import numpy as np\n",
    "import pandas as pd\n",
    "\n",
    "df = pd.read_csv('world.csv',index_col='國家',usecols=['國家','日期','總確診數','新增確診數','新增死亡數'])\n",
    "mask = df.index == \"台灣\"\n",
    "taiwan = df[mask]\n",
    "taiwan"
   ]
  },
  {
   "cell_type": "code",
   "execution_count": null,
   "id": "8346a4c4",
   "metadata": {},
   "outputs": [],
   "source": [
    "taiwan[taiwan['新增死亡數'] >= 100]"
   ]
  },
  {
   "cell_type": "code",
   "execution_count": null,
   "id": "f3a8359b",
   "metadata": {},
   "outputs": [],
   "source": [
    "taiwan.to_csv('taiwan.csv',encoding='utf-8',index=True)"
   ]
  }
 ],
 "metadata": {
  "kernelspec": {
   "display_name": "chihlee",
   "language": "python",
   "name": "python3"
  },
  "language_info": {
   "codemirror_mode": {
    "name": "ipython",
    "version": 3
   },
   "file_extension": ".py",
   "mimetype": "text/x-python",
   "name": "python",
   "nbconvert_exporter": "python",
   "pygments_lexer": "ipython3",
   "version": "3.10.18"
  }
 },
 "nbformat": 4,
 "nbformat_minor": 5
}
