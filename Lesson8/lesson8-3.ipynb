{
 "cells": [
  {
   "cell_type": "code",
   "execution_count": null,
   "id": "afb009fc",
   "metadata": {},
   "outputs": [],
   "source": [
    "import numpy as np\n",
    "import pandas as pd\n",
    "\n",
    "np.random.seed(1234)\n",
    "scores = np.random.randint(50, 101, size=(50, 5))\n",
    "students = pd.DataFrame(scores,\n",
    "            index=[f'學生{num}' for num in range(1,51)],\n",
    "            columns=[\"國文\",\"英文\",\"數學\",\"生物\",\"物理\"])\n",
    "students"
   ]
  },
  {
   "cell_type": "code",
   "execution_count": null,
   "id": "8c6b8764",
   "metadata": {},
   "outputs": [],
   "source": [
    "students['國文']\n",
    "students[['國文','數學']]"
   ]
  },
  {
   "cell_type": "code",
   "execution_count": null,
   "id": "c62145fc",
   "metadata": {},
   "outputs": [],
   "source": [
    "sum_series = np.sum(students,axis=1)\n",
    "average_series = np.mean(students, axis=1)\n",
    "average_series"
   ]
  },
  {
   "cell_type": "code",
   "execution_count": null,
   "id": "fadca809",
   "metadata": {},
   "outputs": [],
   "source": [
    "students_finish = students.copy()\n",
    "students_finish['總分'] = sum_series\n",
    "students_finish['平均'] = average_series\n",
    "students_finish"
   ]
  },
  {
   "cell_type": "code",
   "execution_count": null,
   "id": "907cbf7a",
   "metadata": {},
   "outputs": [],
   "source": [
    "#由index開始選取\n",
    "students_finish.loc['學生1'] #利用索引\n",
    "students_finish.loc[['學生1','學生3']] #利用[索引]\n",
    "students_finish.loc['學生1':'學生10'] #slicing(切割)\n",
    "students_finish.loc['學生1':'學生10','國文':'物理']\n",
    "students_finish.iloc[:10,:5]"
   ]
  },
  {
   "cell_type": "code",
   "execution_count": null,
   "id": "830f6b6b",
   "metadata": {},
   "outputs": [],
   "source": [
    "student1 = students_finish.loc['學生1'] #利用索引\n",
    "student1['國文'] = 100"
   ]
  },
  {
   "cell_type": "code",
   "execution_count": null,
   "id": "51ce4598",
   "metadata": {},
   "outputs": [],
   "source": [
    "students10 = students_finish.iloc[:10].copy()\n",
    "students10.loc['學生1','國文'] = 100\n",
    "students10"
   ]
  },
  {
   "cell_type": "code",
   "execution_count": null,
   "id": "c40cae99",
   "metadata": {},
   "outputs": [],
   "source": [
    "#透過取的選取\n",
    "#subscript[list[boolean]]\n",
    "mask = [True,False,False,True,True,False,False,False,True,True]\n",
    "students10[mask]"
   ]
  },
  {
   "cell_type": "code",
   "execution_count": null,
   "id": "155392ed",
   "metadata": {},
   "outputs": [],
   "source": [
    "mask = students10['國文'] >= 85\n",
    "students10[mask]"
   ]
  },
  {
   "cell_type": "code",
   "execution_count": null,
   "id": "4c80fdd5",
   "metadata": {},
   "outputs": [],
   "source": [
    "students10[students['數學'] >= 90]"
   ]
  },
  {
   "cell_type": "code",
   "execution_count": null,
   "id": "6defba8f",
   "metadata": {},
   "outputs": [],
   "source": [
    "students_finish[students_finish['總分'] >= 400]"
   ]
  }
 ],
 "metadata": {
  "kernelspec": {
   "display_name": "Python 3",
   "language": "python",
   "name": "python3"
  },
  "language_info": {
   "codemirror_mode": {
    "name": "ipython",
    "version": 3
   },
   "file_extension": ".py",
   "mimetype": "text/x-python",
   "name": "python",
   "nbconvert_exporter": "python",
   "pygments_lexer": "ipython3",
   "version": "3.10.18"
  }
 },
 "nbformat": 4,
 "nbformat_minor": 5
}
