{
 "cells": [
  {
   "cell_type": "markdown",
   "id": "575c0a23",
   "metadata": {},
   "source": [
    "https://www.perplexity.ai/search/b99dd1ac-2d40-4f7d-ba29-2972671abf18"
   ]
  },
  {
   "cell_type": "code",
   "execution_count": null,
   "id": "ed2d1c21",
   "metadata": {},
   "outputs": [],
   "source": [
    "import numpy as np\n",
    "\n",
    "np.random.seed(5678)\n",
    "scores = np.random.randint(50, 101, size=(50, 5))\n",
    "scores"
   ]
  },
  {
   "cell_type": "code",
   "execution_count": null,
   "id": "18c2d345",
   "metadata": {},
   "outputs": [],
   "source": [
    "import pandas as pd\n",
    "\n",
    "df = pd.DataFrame(scores,columns=[\"國文\", \"英文\", \"數學\", \"生物\", \"物理\"],index=[f\"學生{x}\" for x in range(1,51)])\n",
    "type(df)"
   ]
  },
  {
   "cell_type": "markdown",
   "id": "8ccfaf33",
   "metadata": {},
   "source": [
    "pandas.core.frame.DataFrame"
   ]
  },
  {
   "cell_type": "code",
   "execution_count": null,
   "id": "442e9970",
   "metadata": {},
   "outputs": [],
   "source": [
    "[x**2 for x in range(10) if x < 4]"
   ]
  },
  {
   "cell_type": "markdown",
   "id": "665ab690",
   "metadata": {},
   "source": [
    "[0, 1, 4, 9]"
   ]
  },
  {
   "cell_type": "code",
   "execution_count": null,
   "id": "2e034cb9",
   "metadata": {},
   "outputs": [],
   "source": [
    "df.columns.name = \"科目\"\n",
    "df.index.name = \"姓名\"\n",
    "df"
   ]
  },
  {
   "cell_type": "code",
   "execution_count": null,
   "id": "e1dd7c97",
   "metadata": {},
   "outputs": [],
   "source": [
    "sum_series = df['國文'] + df['英文'] + df['數學'] + df['生物'] + df['物理']\n",
    "average_series = sum_series / 5\n",
    "average_series"
   ]
  },
  {
   "cell_type": "markdown",
   "id": "9278a749",
   "metadata": {},
   "source": [
    "學生1     78.0\n",
    "學生2     80.8\n",
    "學生3     84.6\n",
    "學生4     71.2\n",
    "學生5     88.8\n",
    "學生6     75.0\n",
    "學生7     64.2\n",
    "學生8     59.0\n",
    "學生9     74.6\n",
    "學生10    81.4\n",
    "學生11    72.2\n",
    "學生12    78.8\n",
    "學生13    80.8\n",
    "學生14    73.4\n",
    "學生15    86.2\n",
    "學生16    82.2\n",
    "學生17    77.4\n",
    "學生18    76.8\n",
    "學生19    75.8\n",
    "學生20    79.6\n",
    "學生21    78.6\n",
    "學生22    74.0\n",
    "學生23    75.8\n",
    "學生24    67.8\n",
    "學生25    72.2\n",
    "學生26    68.8\n",
    "學生27    79.0\n",
    "學生28    69.2\n",
    "學生29    75.2\n",
    "學生30    78.6\n",
    "學生31    79.0\n",
    "學生32    68.0\n",
    "學生33    69.4\n",
    "學生34    70.0\n",
    "學生35    79.2\n",
    "學生36    81.0\n",
    "學生37    67.4\n",
    "學生38    82.0\n",
    "學生39    72.2\n",
    "學生40    77.2\n",
    "學生41    87.6\n",
    "學生42    80.4\n",
    "學生43    86.4\n",
    "學生44    76.4\n",
    "學生45    86.8\n",
    "學生46    73.8\n",
    "學生47    71.4\n",
    "學生48    68.6\n",
    "學生49    86.2\n",
    "學生50    78.2\n",
    "dtype: float64"
   ]
  },
  {
   "cell_type": "code",
   "execution_count": null,
   "id": "32c2eff8",
   "metadata": {},
   "outputs": [],
   "source": [
    "df['總分'] = sum_series\n",
    "df['平均'] = average_series\n",
    "df"
   ]
  },
  {
   "cell_type": "markdown",
   "id": "8b86a215",
   "metadata": {},
   "source": [
    "       國文英文 數學生物 物理 總分 \t  平均\n",
    "學生1 \t97 \t69 \t88 \t62 \t74 \t390 \t78.0\n",
    "學生2 \t65 \t99 \t73 \t91 \t76 \t404 \t80.8\n",
    "學生3 \t80 \t93 \t80 \t94 \t76 \t423 \t84.6\n",
    "學生4 \t98 \t78 \t55 \t66 \t59 \t356 \t71.2\n",
    "學生5 \t97 \t100 98 \t62 \t87 \t444 \t88.8\n",
    "學生6 \t84 \t88 \t53 \t89 \t61 \t375 \t75.0\n",
    "學生7 \t50 \t91 \t61 \t66 \t53 \t321 \t64.2\n",
    "學生8 \t52 \t69 \t62 \t51 \t61 \t295 \t59.0\n",
    "學生9 \t93 \t67 \t64 \t57 \t92 \t373 \t74.6\n",
    "學生10 \t93 \t96 \t78 \t67 \t73 \t407 \t81.4\n",
    "學生11 \t63 \t82 \t62 \t55 \t99 \t361 \t72.2\n",
    "學生12 \t81 \t87 \t81 \t75 \t70 \t394 \t78.8\n",
    "學生13 \t95 \t66 \t91 \t58 \t94 \t404 \t80.8\n",
    "學生14 \t56 \t72 \t94 \t76 \t69 \t367 \t73.4\n",
    "學生15 \t97 \t99 \t68 \t71 \t96 \t431 \t86.2\n",
    "學生16 \t84 \t87 \t95 \t88 \t57 \t411 \t82.2\n",
    "學生17 \t86 \t53 \t55 \t96 \t97 \t387 \t77.4\n",
    "學生18 \t97 \t65 \t84 \t60 \t78 \t384 \t76.8\n",
    "學生19 \t54 \t68 \t89 \t75 \t93 \t379 \t75.8\n",
    "學生20 \t64 \t73 \t100 70 \t91 \t398 \t79.6\n",
    "學生21 \t50 \t84 \t76 \t83 \t100 393 \t78.6\n",
    "學生22 \t99 \t71 \t57 \t54 \t89 \t370 \t74.0\n",
    "學生23 \t67 \t50 \t71 \t91 \t100 379 \t75.8\n",
    "學生24 \t91 \t51 \t64 \t53 \t80 \t339 \t67.8\n",
    "學生25 \t62 \t59 \t95 \t69 \t76 \t361 \t72.2\n",
    "學生26 \t82 \t54 \t86 \t50 \t72 \t344 \t68.8\n",
    "學生27 \t70 \t58 \t94 \t99 \t74 \t395 \t79.0\n",
    "學生28 \t80 \t91 \t65 \t58 \t52 \t346 \t69.2\n",
    "學生29 \t66 \t93 \t52 \t100 65 \t376 \t75.2\n",
    "學生30 \t53 \t96 \t84 \t86 \t74 \t393 \t78.6\n",
    "學生31 \t83 \t92 \t52 \t73 \t95 \t395 \t79.0\n",
    "學生32 \t70 \t85 \t68 \t62 \t55 \t340 \t68.0\n",
    "學生33 \t67 \t66 \t58 \t95 \t61 \t347 \t69.4\n",
    "學生34 \t65 \t70 \t66 \t50 \t99 \t350 \t70.0\n",
    "學生35 \t82 \t69 \t99 \t69 \t77 \t396 \t79.2\n",
    "學生36 \t73 \t91 \t85 \t86 \t70 \t405 \t81.0\n",
    "學生37 \t78 \t51 \t61 \t67 \t80 \t337 \t67.4\n",
    "學生38 \t88 \t84 \t75 \t89 \t74 \t410 \t82.0\n",
    "學生39 \t62 \t62 \t82 \t58 \t97 \t361 \t72.2\n",
    "學生40 \t73 \t75 \t95 \t71 \t72 \t386 \t77.2\n",
    "學生41 \t95 \t69 \t91 \t97 \t86 \t438 \t87.6\n",
    "學生42 \t89 \t89 \t67 \t89 \t68 \t402 \t80.4\n",
    "學生43 \t87 \t84 \t73 \t100 88 \t432 \t86.4\n",
    "學生44 \t58 \t67 \t91 \t97 \t69 \t382 \t76.4\n",
    "學生45 \t93 \t94 \t85 \t92 \t70 \t434 \t86.8\n",
    "學生46 \t76 \t75 \t93 \t73 \t52 \t369 \t73.8\n",
    "學生47 \t90 \t51 \t75 \t77 \t64 \t357 \t71.4\n",
    "學生48 \t54 \t77 \t92 \t53 \t67 \t343 \t68.6\n",
    "學生49 \t97 \t82 \t63 \t98 \t91 \t431 \t86.2\n",
    "學生50 \t80 \t85 \t69 \t98 \t59 \t391 \t78.2"
   ]
  },
  {
   "cell_type": "code",
   "execution_count": null,
   "id": "cb75653a",
   "metadata": {},
   "outputs": [],
   "source": [
    "#由index開始選取\n",
    "students_finish.loc['學生1'] #利用索引\n",
    "students_finish.loc[['學生1','學生3']] #利用[索引]\n",
    "students_finish.loc['學生1':'學生10'] #slicing(切割)\n",
    "students_finish.loc['學生1':'學生10','國文':'物理']\n",
    "students_finish.iloc[:10,:5]"
   ]
  },
  {
   "cell_type": "code",
   "execution_count": null,
   "id": "0cecc0f8",
   "metadata": {},
   "outputs": [],
   "source": [
    "student1 = students_finish.loc['學生1'] #利用索引\n",
    "student1['國文'] = 100"
   ]
  },
  {
   "cell_type": "code",
   "execution_count": null,
   "id": "567fd5f7",
   "metadata": {},
   "outputs": [],
   "source": [
    "students10 = students_finish.iloc[:10].copy()\n",
    "students10.loc['學生1','國文'] = 100\n",
    "students10"
   ]
  },
  {
   "cell_type": "code",
   "execution_count": null,
   "id": "143a33a9",
   "metadata": {},
   "outputs": [],
   "source": [
    "#透過取的選取\n",
    "#subscript[list[boolean]]\n",
    "mask = [True,False,False,True,True,False,False,False,True,True]\n",
    "students10[mask]"
   ]
  },
  {
   "cell_type": "code",
   "execution_count": null,
   "id": "9d7a4563",
   "metadata": {},
   "outputs": [],
   "source": [
    "mask = students10['國文'] >= 85\n",
    "students10[mask]"
   ]
  },
  {
   "cell_type": "code",
   "execution_count": null,
   "id": "30516b4b",
   "metadata": {},
   "outputs": [],
   "source": [
    "students10[students['數學'] >= 90]"
   ]
  },
  {
   "cell_type": "markdown",
   "id": "01af4784",
   "metadata": {},
   "source": [
    "       國文 英文 數學 生物 物理 總分 平均\n",
    "學生5 \t97 \t100  98   62   87  444 88.8"
   ]
  },
  {
   "cell_type": "code",
   "execution_count": null,
   "id": "3b0bd721",
   "metadata": {},
   "outputs": [],
   "source": [
    "students_finish[students_finish['總分'] >= 400]"
   ]
  }
 ],
 "metadata": {
  "kernelspec": {
   "display_name": "Python 3",
   "language": "python",
   "name": "python3"
  },
  "language_info": {
   "codemirror_mode": {
    "name": "ipython",
    "version": 3
   },
   "file_extension": ".py",
   "mimetype": "text/x-python",
   "name": "python",
   "nbconvert_exporter": "python",
   "pygments_lexer": "ipython3",
   "version": "3.10.18"
  }
 },
 "nbformat": 4,
 "nbformat_minor": 5
}
