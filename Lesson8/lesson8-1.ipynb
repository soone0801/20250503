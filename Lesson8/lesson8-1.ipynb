{
 "cells": [
  {
   "cell_type": "markdown",
   "id": "0e8d5a38",
   "metadata": {},
   "source": [
    "https://www.perplexity.ai/search/045ecda7-23bf-4d76-9155-fcb886e2425e"
   ]
  },
  {
   "cell_type": "code",
   "execution_count": null,
   "id": "fddb76b4",
   "metadata": {},
   "outputs": [],
   "source": [
    "import numpy as np\n",
    "np.random.random()\n",
    "np.random.random(3)\n",
    "np.random.random(size=3)\n",
    "np.random.random((3, 4))\n",
    "np.random.random(size=(3,4))"
   ]
  },
  {
   "cell_type": "markdown",
   "id": "305b4e09",
   "metadata": {},
   "source": [
    "array([[0.45538222, 0.88721317, 0.82153768, 0.21595103],\n",
    "       [0.87195637, 0.53168564, 0.02020151, 0.03129179],\n",
    "       [0.08793208, 0.51225591, 0.08768134, 0.23232317]])"
   ]
  },
  {
   "cell_type": "code",
   "execution_count": null,
   "id": "4f46e7a7",
   "metadata": {},
   "outputs": [],
   "source": [
    "from numpy.random import normal \n",
    "\n",
    "normal_value = normal(size=(3, 4))\n",
    "#ndarray常用的實體屬性\n",
    "type(normal_value)\n",
    "normal_value.ndim\n",
    "normal_value.size\n",
    "normal_value.shape\n",
    "normal_value.dtype"
   ]
  },
  {
   "cell_type": "markdown",
   "id": "46a9cab6",
   "metadata": {},
   "source": [
    "dtype('float64')"
   ]
  },
  {
   "cell_type": "code",
   "execution_count": null,
   "id": "8db5875a",
   "metadata": {},
   "outputs": [],
   "source": [
    "#ndarray,陣列運算\n",
    "normal_value * 10"
   ]
  },
  {
   "cell_type": "markdown",
   "id": "8a5c95d8",
   "metadata": {},
   "source": [
    "array([[ 12.58996287,  15.05783547,   8.69203655, -11.04591528],\n",
    "       [  6.75457144,  14.75519745,   1.63740728,  -6.23245812],\n",
    "       [ -3.19942131,  -5.97713143,   7.06584288,  16.16075302]])"
   ]
  },
  {
   "cell_type": "code",
   "execution_count": null,
   "id": "e26c7adc",
   "metadata": {},
   "outputs": [],
   "source": [
    "#ndarray,的統計\n",
    "normal_value.sum()\n",
    "normal_value.sum(axis=0)\n",
    "normal_value.sum(axis=1)"
   ]
  },
  {
   "cell_type": "markdown",
   "id": "80f3cb25",
   "metadata": {},
   "source": [
    "array([2.52939196, 1.69147181, 1.40500432])"
   ]
  }
 ],
 "metadata": {
  "kernelspec": {
   "display_name": "Python 3",
   "language": "python",
   "name": "python3"
  },
  "language_info": {
   "codemirror_mode": {
    "name": "ipython",
    "version": 3
   },
   "file_extension": ".py",
   "mimetype": "text/x-python",
   "name": "python",
   "nbconvert_exporter": "python",
   "pygments_lexer": "ipython3",
   "version": "3.10.18"
  }
 },
 "nbformat": 4,
 "nbformat_minor": 5
}
