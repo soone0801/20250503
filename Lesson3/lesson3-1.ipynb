{
  "nbformat": 4,
  "nbformat_minor": 0,
  "metadata": {
    "colab": {
      "provenance": [],
      "authorship_tag": "ABX9TyOo7sOGV0XfqI+ZlakfY4JB",
      "include_colab_link": true
    },
    "kernelspec": {
      "name": "python3",
      "display_name": "Python 3"
    },
    "language_info": {
      "name": "python"
    }
  },
  "cells": [
    {
      "cell_type": "markdown",
      "metadata": {
        "id": "view-in-github",
        "colab_type": "text"
      },
      "source": [
        "<a href=\"https://colab.research.google.com/github/soone0801/20250503/blob/main/Lesson3/lesson3-1.ipynb\" target=\"_parent\"><img src=\"https://colab.research.google.com/assets/colab-badge.svg\" alt=\"Open In Colab\"/></a>"
      ]
    },
    {
      "cell_type": "code",
      "source": [
        "import random\n",
        "\n",
        "min = 1\n",
        "max = 8787\n",
        "count = 0\n",
        "random_number = random.randint(min,max)\n",
        "print(random_number)\n",
        "print(\"===============猜數字遊戲==================\\n\\n\")\n",
        "while True:\n",
        "  num = int(input(f\"請輸入數字({min}~{max}:)\"))\n",
        "  count += 1\n",
        "  if(num == random_number):\n",
        "    print(\"猜對了\")\n",
        "    print(f\"總共猜了:{count}次\")\n",
        "    break\n",
        "  elif(num>random_number):\n",
        "      print(f\"小\")\n",
        "      max = num - 1\n",
        "  elif(num<random_number):\n",
        "      print(f\"大\")\n",
        "      min = num + 1\n",
        "\n",
        "  print(f\"已經猜了{count}次\")\n",
        "\n",
        "\n",
        "print(\"可以滾了\")"
      ],
      "metadata": {
        "id": "SfYY3Wyu9Fxk",
        "outputId": "708b18c7-8382-4d2e-c6a6-cc8b8eb8a1a4",
        "colab": {
          "base_uri": "https://localhost:8080/"
        }
      },
      "execution_count": 4,
      "outputs": [
        {
          "output_type": "stream",
          "name": "stdout",
          "text": [
            "2773\n",
            "===============猜數字遊戲==================\n",
            "\n",
            "\n",
            "請輸入數字(1~8787:)6666\n",
            "小\n",
            "已經猜了1次\n",
            "請輸入數字(1~6665:)2773\n",
            "猜對了\n",
            "總共猜了:2次\n",
            "可以滾了\n"
          ]
        }
      ]
    }
  ]
}