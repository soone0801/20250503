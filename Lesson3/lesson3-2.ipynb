{
  "nbformat": 4,
  "nbformat_minor": 0,
  "metadata": {
    "colab": {
      "provenance": [],
      "authorship_tag": "ABX9TyPz8LHRl6UQ4Uljz72OwnCa",
      "include_colab_link": true
    },
    "kernelspec": {
      "name": "python3",
      "display_name": "Python 3"
    },
    "language_info": {
      "name": "python"
    }
  },
  "cells": [
    {
      "cell_type": "markdown",
      "metadata": {
        "id": "view-in-github",
        "colab_type": "text"
      },
      "source": [
        "<a href=\"https://colab.research.google.com/github/soone0801/20250503/blob/main/Lesson3/lesson3-2.ipynb\" target=\"_parent\"><img src=\"https://colab.research.google.com/assets/colab-badge.svg\" alt=\"Open In Colab\"/></a>"
      ]
    },
    {
      "cell_type": "code",
      "source": [
        "import random\n",
        "\n",
        "def play_game():\n",
        "    min = 1\n",
        "    max = 100\n",
        "    count = 0\n",
        "    target = random.randint(1, 100)\n",
        "    print(target)\n",
        "    print(\"===============猜數字遊戲=================:\\n\")\n",
        "    while(True):\n",
        "        count += 1\n",
        "        keyin = int(input(\"猜數字範圍{0}~{1}:\".format(min, max)))\n",
        "        if(keyin >=min and keyin <= max):\n",
        "            if(keyin == target):\n",
        "                print(\"賓果!猜對了, 答案是:\", target)\n",
        "                print(\"您猜了\",count,\"次\")\n",
        "                break\n",
        "            elif (keyin > target):\n",
        "                max = keyin\n",
        "                print(\"再小一點\")\n",
        "            elif (keyin < target):\n",
        "                min = keyin\n",
        "                print(\"再大一點\")\n",
        "            print(\"您猜了\",count,\"次\\n\")\n",
        "        else:\n",
        "            print(\"請輸入提示範圍內的數字\")\n",
        "\n",
        "while(True):\n",
        "    play_game()\n",
        "    play_again = input(\"再玩一次(y,n):\")\n",
        "    if(play_again == 'n'):\n",
        "        break\n",
        "\n",
        "print(\"遊戲結束\")"
      ],
      "metadata": {
        "id": "-MyNGbno91-i",
        "outputId": "e24beb2b-d4d0-4a72-d7dc-84c32b09c39b",
        "colab": {
          "base_uri": "https://localhost:8080/"
        }
      },
      "execution_count": 5,
      "outputs": [
        {
          "output_type": "stream",
          "name": "stdout",
          "text": [
            "15\n",
            "===============猜數字遊戲=================:\n",
            "\n",
            "猜數字範圍1~100:12\n",
            "再大一點\n",
            "您猜了 1 次\n",
            "\n",
            "猜數字範圍12~100:23\n",
            "再小一點\n",
            "您猜了 2 次\n",
            "\n",
            "猜數字範圍12~23:1000\n",
            "請輸入提示範圍內的數字\n",
            "猜數字範圍12~23:15\n",
            "賓果!猜對了, 答案是: 15\n",
            "您猜了 4 次\n",
            "再玩一次(y,n):n\n",
            "遊戲結束\n"
          ]
        }
      ]
    }
  ]
}